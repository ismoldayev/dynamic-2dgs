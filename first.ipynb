{
 "cells": [
  {
   "cell_type": "markdown",
   "id": "ef1bad34",
   "metadata": {},
   "source": [
    "## bruh"
   ]
  }
 ],
 "metadata": {
  "language_info": {
   "name": "python"
  }
 },
 "nbformat": 4,
 "nbformat_minor": 5
}
