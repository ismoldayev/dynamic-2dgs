{
  "cells": [
    {
      "cell_type": "markdown",
      "id": "ef1bad34",
      "metadata": {
        "id": "ef1bad34"
      },
      "source": [
        "## bruh"
      ]
    },
    {
      "cell_type": "markdown",
      "source": [
        "yo wassaup\n"
      ],
      "metadata": {
        "id": "1deRSaxnnIDn"
      },
      "id": "1deRSaxnnIDn"
    }
  ],
  "metadata": {
    "language_info": {
      "name": "python"
    },
    "colab": {
      "provenance": []
    }
  },
  "nbformat": 4,
  "nbformat_minor": 5
}